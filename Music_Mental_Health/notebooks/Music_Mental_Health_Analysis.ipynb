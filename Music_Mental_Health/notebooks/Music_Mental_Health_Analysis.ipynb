import pandas as pd
import numpy as np
import matplotlib.pyplot as plt
import seaborn as sns

# Load the preprocessed data
df = pd.read_csv('../data/Preprocessed_Music_Mental_Health_Survey.csv')

# Display the first few rows of the dataset
df.head()

# Check the number of rows and columns in the dataset
print(f"Data shape: {df.shape}")

# Get a concise summary of the dataset (data types, non-null counts)
print(df.info())

# Summary statistics for numerical columns
print(df.describe())

# Check for duplicate rows
duplicates = df.duplicated().sum()
print(f"Number of duplicate rows: {duplicates}")

# Visualize outliers using boxplots for numerical columns
numerical_cols = ['Age', 'BPM', 'Anxiety', 'Depression', 'Insomnia', 'OCD']
for col in numerical_cols:
    plt.figure(figsize=(6, 4))
    sns.boxplot(df[col])
    plt.title(f"Boxplot of {col}")
    plt.show()

# Plot histograms for numerical variables (e.g., Age, Anxiety, Depression)
numerical_cols = ['Age', 'BPM', 'Anxiety', 'Depression', 'Insomnia', 'OCD']
for col in numerical_cols:
    plt.figure(figsize=(6, 4))
    sns.histplot(df[col], kde=True)
    plt.title(f"Distribution of {col}")
    plt.show()

# Plot bar charts for categorical variables (e.g., 'Primary streaming service', 'Fav genre')
categorical_cols = ['Primary streaming service', 'Fav genre', 'Instrumentalist', 'Composer']
for col in categorical_cols:
    plt.figure(figsize=(6, 4))
    sns.countplot(x=df[col])
    plt.title(f"Distribution of {col}")
    plt.xticks(rotation=45)
    plt.show()

# Plot a correlation matrix to examine relationships between numerical variables
correlation_matrix = df[['Age', 'BPM', 'Anxiety', 'Depression', 'Insomnia', 'OCD']].corr()

# Plot the heatmap
plt.figure(figsize=(8, 6))
sns.heatmap(correlation_matrix, annot=True, cmap='coolwarm', fmt='.2f', linewidths=0.5)
plt.title("Correlation Matrix")
plt.show()

# Visualize relationships between numerical variables using scatter plots
plt.figure(figsize=(6, 4))
sns.scatterplot(x='Age', y='Anxiety', data=df)
plt.title("Age vs. Anxiety")
plt.show()

plt.figure(figsize=(6, 4))
sns.scatterplot(x='BPM', y='Depression', data=df)
plt.title("BPM vs. Depression")
plt.show()

# Compare the average Anxiety score for different 'Primary streaming service' categories
plt.figure(figsize=(8, 6))
sns.barplot(x='Primary streaming service', y='Anxiety', data=df)
plt.title("Anxiety by Primary Streaming Service")
plt.xticks(rotation=45)
plt.show()

# Compare the average Depression score for different 'Fav genre' categories
plt.figure(figsize=(8, 6))
sns.barplot(x='Fav genre', y='Depression', data=df)
plt.title("Depression by Favorite Genre")
plt.xticks(rotation=45)
plt.show()

# Create pairplot to visualize relationships between multiple numerical variables
sns.pairplot(df[['Age', 'BPM', 'Anxiety', 'Depression', 'Insomnia', 'OCD']])
plt.show()

# Use hue to group data by a categorical variable and visualize relationships
plt.figure(figsize=(6, 4))
sns.scatterplot(x='Age', y='Anxiety', hue='Fav genre', data=df)
plt.title("Age vs. Anxiety by Favorite Genre")
plt.show()

# Convert categorical columns to numerical using one-hot encoding or label encoding
df_encoded = pd.get_dummies(df, columns=['Primary streaming service', 'Fav genre', 'Instrumentalist', 'Composer'])